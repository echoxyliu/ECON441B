{
 "cells": [
  {
   "cell_type": "markdown",
   "metadata": {
    "id": "7ywSRtNI4s5h"
   },
   "source": [
    "# 0.) Import the Credit Card Fraud Data From CCLE"
   ]
  },
  {
   "cell_type": "code",
   "execution_count": 2,
   "metadata": {
    "id": "nsG1QV154GYZ"
   },
   "outputs": [],
   "source": [
    "import pandas as pd\n",
    "# from google.colab import drive\n",
    "import matplotlib.pyplot as plt\n",
    "import numpy as np"
   ]
  },
  {
   "cell_type": "code",
   "execution_count": null,
   "metadata": {
    "colab": {
     "base_uri": "https://localhost:8080/"
    },
    "id": "Iku0T8Ou4Lcu",
    "outputId": "c533459a-89a7-4d6f-978b-ea2295ace9e7"
   },
   "outputs": [],
   "source": [
    "# drive.mount('/content/gdrive/', force_remount = True)"
   ]
  },
  {
   "cell_type": "code",
   "execution_count": 3,
   "metadata": {
    "id": "KJQfo8mz43Kz"
   },
   "outputs": [],
   "source": [
    "df = pd.read_csv(\"fraudTest.csv\")"
   ]
  },
  {
   "cell_type": "code",
   "execution_count": 4,
   "metadata": {
    "colab": {
     "base_uri": "https://localhost:8080/",
     "height": 481
    },
    "id": "mKWSRv-q98wE",
    "outputId": "29838bae-3f83-4216-f0da-f7ea7ee6ee69"
   },
   "outputs": [
    {
     "data": {
      "text/html": [
       "<div>\n",
       "<style scoped>\n",
       "    .dataframe tbody tr th:only-of-type {\n",
       "        vertical-align: middle;\n",
       "    }\n",
       "\n",
       "    .dataframe tbody tr th {\n",
       "        vertical-align: top;\n",
       "    }\n",
       "\n",
       "    .dataframe thead th {\n",
       "        text-align: right;\n",
       "    }\n",
       "</style>\n",
       "<table border=\"1\" class=\"dataframe\">\n",
       "  <thead>\n",
       "    <tr style=\"text-align: right;\">\n",
       "      <th></th>\n",
       "      <th>Unnamed: 0</th>\n",
       "      <th>trans_date_trans_time</th>\n",
       "      <th>cc_num</th>\n",
       "      <th>merchant</th>\n",
       "      <th>category</th>\n",
       "      <th>amt</th>\n",
       "      <th>first</th>\n",
       "      <th>last</th>\n",
       "      <th>gender</th>\n",
       "      <th>street</th>\n",
       "      <th>...</th>\n",
       "      <th>lat</th>\n",
       "      <th>long</th>\n",
       "      <th>city_pop</th>\n",
       "      <th>job</th>\n",
       "      <th>dob</th>\n",
       "      <th>trans_num</th>\n",
       "      <th>unix_time</th>\n",
       "      <th>merch_lat</th>\n",
       "      <th>merch_long</th>\n",
       "      <th>is_fraud</th>\n",
       "    </tr>\n",
       "  </thead>\n",
       "  <tbody>\n",
       "    <tr>\n",
       "      <th>0</th>\n",
       "      <td>0</td>\n",
       "      <td>2020-06-21 12:14:25</td>\n",
       "      <td>2291163933867244</td>\n",
       "      <td>fraud_Kirlin and Sons</td>\n",
       "      <td>personal_care</td>\n",
       "      <td>2.86</td>\n",
       "      <td>Jeff</td>\n",
       "      <td>Elliott</td>\n",
       "      <td>M</td>\n",
       "      <td>351 Darlene Green</td>\n",
       "      <td>...</td>\n",
       "      <td>33.9659</td>\n",
       "      <td>-80.9355</td>\n",
       "      <td>333497</td>\n",
       "      <td>Mechanical engineer</td>\n",
       "      <td>1968-03-19</td>\n",
       "      <td>2da90c7d74bd46a0caf3777415b3ebd3</td>\n",
       "      <td>1371816865</td>\n",
       "      <td>33.986391</td>\n",
       "      <td>-81.200714</td>\n",
       "      <td>0</td>\n",
       "    </tr>\n",
       "    <tr>\n",
       "      <th>1</th>\n",
       "      <td>1</td>\n",
       "      <td>2020-06-21 12:14:33</td>\n",
       "      <td>3573030041201292</td>\n",
       "      <td>fraud_Sporer-Keebler</td>\n",
       "      <td>personal_care</td>\n",
       "      <td>29.84</td>\n",
       "      <td>Joanne</td>\n",
       "      <td>Williams</td>\n",
       "      <td>F</td>\n",
       "      <td>3638 Marsh Union</td>\n",
       "      <td>...</td>\n",
       "      <td>40.3207</td>\n",
       "      <td>-110.4360</td>\n",
       "      <td>302</td>\n",
       "      <td>Sales professional, IT</td>\n",
       "      <td>1990-01-17</td>\n",
       "      <td>324cc204407e99f51b0d6ca0055005e7</td>\n",
       "      <td>1371816873</td>\n",
       "      <td>39.450498</td>\n",
       "      <td>-109.960431</td>\n",
       "      <td>0</td>\n",
       "    </tr>\n",
       "    <tr>\n",
       "      <th>2</th>\n",
       "      <td>2</td>\n",
       "      <td>2020-06-21 12:14:53</td>\n",
       "      <td>3598215285024754</td>\n",
       "      <td>fraud_Swaniawski, Nitzsche and Welch</td>\n",
       "      <td>health_fitness</td>\n",
       "      <td>41.28</td>\n",
       "      <td>Ashley</td>\n",
       "      <td>Lopez</td>\n",
       "      <td>F</td>\n",
       "      <td>9333 Valentine Point</td>\n",
       "      <td>...</td>\n",
       "      <td>40.6729</td>\n",
       "      <td>-73.5365</td>\n",
       "      <td>34496</td>\n",
       "      <td>Librarian, public</td>\n",
       "      <td>1970-10-21</td>\n",
       "      <td>c81755dbbbea9d5c77f094348a7579be</td>\n",
       "      <td>1371816893</td>\n",
       "      <td>40.495810</td>\n",
       "      <td>-74.196111</td>\n",
       "      <td>0</td>\n",
       "    </tr>\n",
       "    <tr>\n",
       "      <th>3</th>\n",
       "      <td>3</td>\n",
       "      <td>2020-06-21 12:15:15</td>\n",
       "      <td>3591919803438423</td>\n",
       "      <td>fraud_Haley Group</td>\n",
       "      <td>misc_pos</td>\n",
       "      <td>60.05</td>\n",
       "      <td>Brian</td>\n",
       "      <td>Williams</td>\n",
       "      <td>M</td>\n",
       "      <td>32941 Krystal Mill Apt. 552</td>\n",
       "      <td>...</td>\n",
       "      <td>28.5697</td>\n",
       "      <td>-80.8191</td>\n",
       "      <td>54767</td>\n",
       "      <td>Set designer</td>\n",
       "      <td>1987-07-25</td>\n",
       "      <td>2159175b9efe66dc301f149d3d5abf8c</td>\n",
       "      <td>1371816915</td>\n",
       "      <td>28.812398</td>\n",
       "      <td>-80.883061</td>\n",
       "      <td>0</td>\n",
       "    </tr>\n",
       "    <tr>\n",
       "      <th>4</th>\n",
       "      <td>4</td>\n",
       "      <td>2020-06-21 12:15:17</td>\n",
       "      <td>3526826139003047</td>\n",
       "      <td>fraud_Johnston-Casper</td>\n",
       "      <td>travel</td>\n",
       "      <td>3.19</td>\n",
       "      <td>Nathan</td>\n",
       "      <td>Massey</td>\n",
       "      <td>M</td>\n",
       "      <td>5783 Evan Roads Apt. 465</td>\n",
       "      <td>...</td>\n",
       "      <td>44.2529</td>\n",
       "      <td>-85.0170</td>\n",
       "      <td>1126</td>\n",
       "      <td>Furniture designer</td>\n",
       "      <td>1955-07-06</td>\n",
       "      <td>57ff021bd3f328f8738bb535c302a31b</td>\n",
       "      <td>1371816917</td>\n",
       "      <td>44.959148</td>\n",
       "      <td>-85.884734</td>\n",
       "      <td>0</td>\n",
       "    </tr>\n",
       "  </tbody>\n",
       "</table>\n",
       "<p>5 rows × 23 columns</p>\n",
       "</div>"
      ],
      "text/plain": [
       "   Unnamed: 0 trans_date_trans_time            cc_num  \\\n",
       "0           0   2020-06-21 12:14:25  2291163933867244   \n",
       "1           1   2020-06-21 12:14:33  3573030041201292   \n",
       "2           2   2020-06-21 12:14:53  3598215285024754   \n",
       "3           3   2020-06-21 12:15:15  3591919803438423   \n",
       "4           4   2020-06-21 12:15:17  3526826139003047   \n",
       "\n",
       "                               merchant        category    amt   first  \\\n",
       "0                 fraud_Kirlin and Sons   personal_care   2.86    Jeff   \n",
       "1                  fraud_Sporer-Keebler   personal_care  29.84  Joanne   \n",
       "2  fraud_Swaniawski, Nitzsche and Welch  health_fitness  41.28  Ashley   \n",
       "3                     fraud_Haley Group        misc_pos  60.05   Brian   \n",
       "4                 fraud_Johnston-Casper          travel   3.19  Nathan   \n",
       "\n",
       "       last gender                       street  ...      lat      long  \\\n",
       "0   Elliott      M            351 Darlene Green  ...  33.9659  -80.9355   \n",
       "1  Williams      F             3638 Marsh Union  ...  40.3207 -110.4360   \n",
       "2     Lopez      F         9333 Valentine Point  ...  40.6729  -73.5365   \n",
       "3  Williams      M  32941 Krystal Mill Apt. 552  ...  28.5697  -80.8191   \n",
       "4    Massey      M     5783 Evan Roads Apt. 465  ...  44.2529  -85.0170   \n",
       "\n",
       "   city_pop                     job         dob  \\\n",
       "0    333497     Mechanical engineer  1968-03-19   \n",
       "1       302  Sales professional, IT  1990-01-17   \n",
       "2     34496       Librarian, public  1970-10-21   \n",
       "3     54767            Set designer  1987-07-25   \n",
       "4      1126      Furniture designer  1955-07-06   \n",
       "\n",
       "                          trans_num   unix_time  merch_lat  merch_long  \\\n",
       "0  2da90c7d74bd46a0caf3777415b3ebd3  1371816865  33.986391  -81.200714   \n",
       "1  324cc204407e99f51b0d6ca0055005e7  1371816873  39.450498 -109.960431   \n",
       "2  c81755dbbbea9d5c77f094348a7579be  1371816893  40.495810  -74.196111   \n",
       "3  2159175b9efe66dc301f149d3d5abf8c  1371816915  28.812398  -80.883061   \n",
       "4  57ff021bd3f328f8738bb535c302a31b  1371816917  44.959148  -85.884734   \n",
       "\n",
       "   is_fraud  \n",
       "0         0  \n",
       "1         0  \n",
       "2         0  \n",
       "3         0  \n",
       "4         0  \n",
       "\n",
       "[5 rows x 23 columns]"
      ]
     },
     "execution_count": 4,
     "metadata": {},
     "output_type": "execute_result"
    }
   ],
   "source": [
    "df.head()"
   ]
  },
  {
   "cell_type": "code",
   "execution_count": 5,
   "metadata": {
    "colab": {
     "base_uri": "https://localhost:8080/"
    },
    "id": "2_YuJa4IFKda",
    "outputId": "7e387d76-2dd6-472c-d598-5994ef2b9fda"
   },
   "outputs": [
    {
     "name": "stderr",
     "output_type": "stream",
     "text": [
      "/var/folders/gc/v4x_53fj4fs7khd8jptvwj2w0000gn/T/ipykernel_23374/2282180580.py:3: SettingWithCopyWarning: \n",
      "A value is trying to be set on a copy of a slice from a DataFrame.\n",
      "Try using .loc[row_indexer,col_indexer] = value instead\n",
      "\n",
      "See the caveats in the documentation: https://pandas.pydata.org/pandas-docs/stable/user_guide/indexing.html#returning-a-view-versus-a-copy\n",
      "  df_select[\"trans_date_trans_time\"] = pd.to_datetime(df_select[\"trans_date_trans_time\"])\n",
      "/var/folders/gc/v4x_53fj4fs7khd8jptvwj2w0000gn/T/ipykernel_23374/2282180580.py:4: SettingWithCopyWarning: \n",
      "A value is trying to be set on a copy of a slice from a DataFrame.\n",
      "Try using .loc[row_indexer,col_indexer] = value instead\n",
      "\n",
      "See the caveats in the documentation: https://pandas.pydata.org/pandas-docs/stable/user_guide/indexing.html#returning-a-view-versus-a-copy\n",
      "  df_select[\"time_var\"] = [i.second for i in df_select[\"trans_date_trans_time\"]]\n"
     ]
    }
   ],
   "source": [
    "df_select = df[[\"trans_date_trans_time\", \"category\", \"amt\", \"city_pop\", \"is_fraud\"]]\n",
    "\n",
    "df_select[\"trans_date_trans_time\"] = pd.to_datetime(df_select[\"trans_date_trans_time\"])\n",
    "df_select[\"time_var\"] = [i.second for i in df_select[\"trans_date_trans_time\"]]\n",
    "\n",
    "X = pd.get_dummies(df_select, [\"category\"]).drop([\"trans_date_trans_time\", \"is_fraud\"], axis = 1)\n",
    "y = df[\"is_fraud\"]"
   ]
  },
  {
   "cell_type": "markdown",
   "metadata": {
    "id": "8VsnpGe9-B3p"
   },
   "source": [
    "# 1.) Use scikit learn preprocessing to split the data into 70/30 in out of sample"
   ]
  },
  {
   "cell_type": "code",
   "execution_count": 6,
   "metadata": {
    "id": "1tpCDMW198ym"
   },
   "outputs": [],
   "source": [
    "from sklearn.model_selection import train_test_split\n",
    "from sklearn.preprocessing import StandardScaler"
   ]
  },
  {
   "cell_type": "code",
   "execution_count": 7,
   "metadata": {
    "id": "FZvnpERK981d"
   },
   "outputs": [],
   "source": [
    "X_train, X_test, y_train, y_test = train_test_split(X, y, test_size = .3)"
   ]
  },
  {
   "cell_type": "code",
   "execution_count": 8,
   "metadata": {
    "id": "JvCzIdgO983i"
   },
   "outputs": [],
   "source": [
    "X_test, X_holdout, y_test, y_holdout = train_test_split(X_test, y_test, test_size = .5)"
   ]
  },
  {
   "cell_type": "code",
   "execution_count": 9,
   "metadata": {
    "id": "f7APv9N3986a"
   },
   "outputs": [],
   "source": [
    "scaler = StandardScaler()\n",
    "X_train = scaler.fit_transform(X_train)\n",
    "X_test = scaler.transform(X_test)\n",
    "X_holdout = scaler.transform(X_holdout)"
   ]
  },
  {
   "cell_type": "markdown",
   "metadata": {
    "id": "lbkpNPyN-Gnk"
   },
   "source": [
    "# 2.) Make three sets of training data (Oversample, Undersample and SMOTE)"
   ]
  },
  {
   "cell_type": "code",
   "execution_count": 10,
   "metadata": {
    "id": "gTTVciVkqopH"
   },
   "outputs": [],
   "source": [
    "from imblearn.over_sampling import RandomOverSampler\n",
    "from imblearn.under_sampling import RandomUnderSampler\n",
    "from imblearn.over_sampling import SMOTE"
   ]
  },
  {
   "cell_type": "code",
   "execution_count": 11,
   "metadata": {
    "id": "gG88uxbiV4lZ"
   },
   "outputs": [],
   "source": [
    "ros = RandomOverSampler()\n",
    "over_X, over_y = ros.fit_resample(X_train, y_train)\n",
    "\n",
    "rus = RandomUnderSampler()\n",
    "under_X, under_y = rus.fit_resample(X_train, y_train)\n",
    "\n",
    "smote = SMOTE()\n",
    "smote_X, smote_y = smote.fit_resample(X_train, y_train)"
   ]
  },
  {
   "cell_type": "markdown",
   "metadata": {
    "id": "bIJx2jvD-KEI"
   },
   "source": [
    "# 3.) Train three logistic regression models"
   ]
  },
  {
   "cell_type": "code",
   "execution_count": 14,
   "metadata": {
    "id": "QhVMq92zvz4s"
   },
   "outputs": [],
   "source": [
    "from sklearn.linear_model import LogisticRegression"
   ]
  },
  {
   "cell_type": "code",
   "execution_count": 15,
   "metadata": {
    "id": "NvwomEoaGAgN"
   },
   "outputs": [],
   "source": [
    "over_log = LogisticRegression().fit(over_X, over_y)\n",
    "\n",
    "under_log = LogisticRegression().fit(under_X, under_y)\n",
    "\n",
    "smote_log = LogisticRegression().fit(smote_X, smote_y)"
   ]
  },
  {
   "cell_type": "markdown",
   "metadata": {
    "id": "PeurmqI4-OoC"
   },
   "source": [
    "# 4.) Test the three models"
   ]
  },
  {
   "cell_type": "code",
   "execution_count": 16,
   "metadata": {
    "colab": {
     "base_uri": "https://localhost:8080/"
    },
    "id": "8tpSsOC0xsKs",
    "outputId": "fee6e3f0-6c06-489e-90da-59237e609bca"
   },
   "outputs": [
    {
     "data": {
      "text/plain": [
       "0.907891264185801"
      ]
     },
     "execution_count": 16,
     "metadata": {},
     "output_type": "execute_result"
    }
   ],
   "source": [
    "over_log.score(X_test, y_test)"
   ]
  },
  {
   "cell_type": "code",
   "execution_count": 17,
   "metadata": {
    "colab": {
     "base_uri": "https://localhost:8080/"
    },
    "id": "zwq8KTmsXhFY",
    "outputId": "7c01f959-58d8-44c6-e955-39fe84168d8a"
   },
   "outputs": [
    {
     "data": {
      "text/plain": [
       "0.8931476283020227"
      ]
     },
     "execution_count": 17,
     "metadata": {},
     "output_type": "execute_result"
    }
   ],
   "source": [
    "under_log.score(X_test, y_test)"
   ]
  },
  {
   "cell_type": "code",
   "execution_count": 18,
   "metadata": {
    "colab": {
     "base_uri": "https://localhost:8080/"
    },
    "id": "DjgQ8BQM99WR",
    "outputId": "a4f3fa30-e8f3-43f4-b562-959b200488e4"
   },
   "outputs": [
    {
     "data": {
      "text/plain": [
       "0.9086590369250702"
      ]
     },
     "execution_count": 18,
     "metadata": {},
     "output_type": "execute_result"
    }
   ],
   "source": [
    "smote_log.score(X_test, y_test)"
   ]
  },
  {
   "cell_type": "code",
   "execution_count": null,
   "metadata": {
    "id": "IF_H74Ht-RIL"
   },
   "outputs": [],
   "source": [
    "# We see SMOTE performing with higher accuracy but is ACCURACY really the best measure?"
   ]
  },
  {
   "cell_type": "markdown",
   "metadata": {
    "id": "6isBwtmL-R4p"
   },
   "source": [
    "# 5.) Which performed best in Out of Sample metrics?"
   ]
  },
  {
   "cell_type": "code",
   "execution_count": null,
   "metadata": {
    "id": "9fwAhujT-RN4"
   },
   "outputs": [],
   "source": [
    "# Sensitivity here in credit fraud is more important as seen from last class"
   ]
  },
  {
   "cell_type": "code",
   "execution_count": 19,
   "metadata": {
    "id": "POIuy3rH-RQv"
   },
   "outputs": [],
   "source": [
    "from sklearn.metrics import confusion_matrix"
   ]
  },
  {
   "cell_type": "code",
   "execution_count": 20,
   "metadata": {
    "id": "e42UoedMK6eq"
   },
   "outputs": [],
   "source": [
    "y_true = y_test"
   ]
  },
  {
   "cell_type": "code",
   "execution_count": 21,
   "metadata": {
    "colab": {
     "base_uri": "https://localhost:8080/"
    },
    "id": "2mc_RyrHK6hX",
    "outputId": "408bb243-3c83-4337-97f5-21f57718360f"
   },
   "outputs": [
    {
     "data": {
      "text/plain": [
       "array([[75437,  7601],\n",
       "       [   77,   243]])"
      ]
     },
     "execution_count": 21,
     "metadata": {},
     "output_type": "execute_result"
    }
   ],
   "source": [
    "y_pred = over_log.predict(X_test)\n",
    "cm = confusion_matrix(y_true, y_pred)\n",
    "cm"
   ]
  },
  {
   "cell_type": "code",
   "execution_count": 22,
   "metadata": {
    "colab": {
     "base_uri": "https://localhost:8080/"
    },
    "id": "xT6gNjLuK6jS",
    "outputId": "2ed847ca-c7a5-414b-d45a-2e7acadfc9d5"
   },
   "outputs": [
    {
     "name": "stdout",
     "output_type": "stream",
     "text": [
      "Over Sample Sensitivity :  0.759375\n"
     ]
    }
   ],
   "source": [
    "print(\"Over Sample Sensitivity : \", cm[1,1] /( cm[1,0] + cm[1,1]))"
   ]
  },
  {
   "cell_type": "code",
   "execution_count": 23,
   "metadata": {
    "colab": {
     "base_uri": "https://localhost:8080/"
    },
    "id": "FTHhw9P1K6lY",
    "outputId": "cadf0e8b-2b60-4ac8-fa81-275d3fab8c6f"
   },
   "outputs": [
    {
     "data": {
      "text/plain": [
       "array([[74203,  8835],\n",
       "       [   72,   248]])"
      ]
     },
     "execution_count": 23,
     "metadata": {},
     "output_type": "execute_result"
    }
   ],
   "source": [
    "y_pred = under_log.predict(X_test)\n",
    "cm = confusion_matrix(y_true, y_pred)\n",
    "cm"
   ]
  },
  {
   "cell_type": "code",
   "execution_count": 24,
   "metadata": {
    "colab": {
     "base_uri": "https://localhost:8080/"
    },
    "id": "g14fgEkT-RTV",
    "outputId": "72b0902b-c2f5-46c7-c49c-83126c75c94f"
   },
   "outputs": [
    {
     "name": "stdout",
     "output_type": "stream",
     "text": [
      "Under Sample Sensitivity :  0.775\n"
     ]
    }
   ],
   "source": [
    "print(\"Under Sample Sensitivity : \", cm[1,1] /( cm[1,0] + cm[1,1]))"
   ]
  },
  {
   "cell_type": "code",
   "execution_count": 25,
   "metadata": {
    "colab": {
     "base_uri": "https://localhost:8080/"
    },
    "id": "_iZ217d8LAR0",
    "outputId": "6d498a8f-bdd9-445d-97cc-6e4eec82574b"
   },
   "outputs": [
    {
     "data": {
      "text/plain": [
       "array([[75501,  7537],\n",
       "       [   77,   243]])"
      ]
     },
     "execution_count": 25,
     "metadata": {},
     "output_type": "execute_result"
    }
   ],
   "source": [
    "y_pred = smote_log.predict(X_test)\n",
    "cm = confusion_matrix(y_true, y_pred)\n",
    "cm"
   ]
  },
  {
   "cell_type": "code",
   "execution_count": 26,
   "metadata": {
    "colab": {
     "base_uri": "https://localhost:8080/"
    },
    "id": "X5bfByOALAUk",
    "outputId": "a7071ed7-f896-4825-90f4-612a0603697a"
   },
   "outputs": [
    {
     "name": "stdout",
     "output_type": "stream",
     "text": [
      "SMOTE Sample Sensitivity :  0.759375\n"
     ]
    }
   ],
   "source": [
    "print(\"SMOTE Sample Sensitivity : \", cm[1,1] /( cm[1,0] + cm[1,1]))"
   ]
  },
  {
   "cell_type": "markdown",
   "metadata": {
    "id": "aQa3sanl-XUk"
   },
   "source": [
    "# 6.) Pick two features and plot the two classes before and after SMOTE."
   ]
  },
  {
   "cell_type": "code",
   "execution_count": 52,
   "metadata": {
    "id": "MDSBmS_usbeJ"
   },
   "outputs": [],
   "source": [
    "raw_temp = pd.concat([pd.DataFrame(X_train), pd.DataFrame(y_train)], ignore_index = False, axis = 1)"
   ]
  },
  {
   "cell_type": "code",
   "execution_count": 49,
   "metadata": {
    "id": "9QA-y6HCslBR"
   },
   "outputs": [
    {
     "data": {
      "text/html": [
       "<div>\n",
       "<style scoped>\n",
       "    .dataframe tbody tr th:only-of-type {\n",
       "        vertical-align: middle;\n",
       "    }\n",
       "\n",
       "    .dataframe tbody tr th {\n",
       "        vertical-align: top;\n",
       "    }\n",
       "\n",
       "    .dataframe thead th {\n",
       "        text-align: right;\n",
       "    }\n",
       "</style>\n",
       "<table border=\"1\" class=\"dataframe\">\n",
       "  <thead>\n",
       "    <tr style=\"text-align: right;\">\n",
       "      <th></th>\n",
       "      <th>amt</th>\n",
       "      <th>city_pop</th>\n",
       "      <th>time_var</th>\n",
       "      <th>category_entertainment</th>\n",
       "      <th>category_food_dining</th>\n",
       "      <th>category_gas_transport</th>\n",
       "      <th>category_grocery_net</th>\n",
       "      <th>category_grocery_pos</th>\n",
       "      <th>category_health_fitness</th>\n",
       "      <th>category_home</th>\n",
       "      <th>category_kids_pets</th>\n",
       "      <th>category_misc_net</th>\n",
       "      <th>category_misc_pos</th>\n",
       "      <th>category_personal_care</th>\n",
       "      <th>category_shopping_net</th>\n",
       "      <th>category_shopping_pos</th>\n",
       "      <th>category_travel</th>\n",
       "      <th>is_fraud</th>\n",
       "    </tr>\n",
       "  </thead>\n",
       "  <tbody>\n",
       "    <tr>\n",
       "      <th>0</th>\n",
       "      <td>-0.076519</td>\n",
       "      <td>-0.288456</td>\n",
       "      <td>-1.533520</td>\n",
       "      <td>-0.278788</td>\n",
       "      <td>-0.274843</td>\n",
       "      <td>-0.335849</td>\n",
       "      <td>-0.189479</td>\n",
       "      <td>-0.323533</td>\n",
       "      <td>-0.266833</td>\n",
       "      <td>-0.322154</td>\n",
       "      <td>-0.310086</td>\n",
       "      <td>4.385924</td>\n",
       "      <td>-0.258438</td>\n",
       "      <td>-0.27574</td>\n",
       "      <td>-0.28443</td>\n",
       "      <td>-0.313595</td>\n",
       "      <td>-0.18063</td>\n",
       "      <td>0.0</td>\n",
       "    </tr>\n",
       "    <tr>\n",
       "      <th>1</th>\n",
       "      <td>-0.284161</td>\n",
       "      <td>-0.292677</td>\n",
       "      <td>-1.012898</td>\n",
       "      <td>-0.278788</td>\n",
       "      <td>-0.274843</td>\n",
       "      <td>-0.335849</td>\n",
       "      <td>-0.189479</td>\n",
       "      <td>-0.323533</td>\n",
       "      <td>-0.266833</td>\n",
       "      <td>3.104106</td>\n",
       "      <td>-0.310086</td>\n",
       "      <td>-0.228002</td>\n",
       "      <td>-0.258438</td>\n",
       "      <td>-0.27574</td>\n",
       "      <td>-0.28443</td>\n",
       "      <td>-0.313595</td>\n",
       "      <td>-0.18063</td>\n",
       "      <td>0.0</td>\n",
       "    </tr>\n",
       "    <tr>\n",
       "      <th>2</th>\n",
       "      <td>-0.226122</td>\n",
       "      <td>-0.227774</td>\n",
       "      <td>-0.434430</td>\n",
       "      <td>-0.278788</td>\n",
       "      <td>-0.274843</td>\n",
       "      <td>-0.335849</td>\n",
       "      <td>-0.189479</td>\n",
       "      <td>-0.323533</td>\n",
       "      <td>3.747663</td>\n",
       "      <td>-0.322154</td>\n",
       "      <td>-0.310086</td>\n",
       "      <td>-0.228002</td>\n",
       "      <td>-0.258438</td>\n",
       "      <td>-0.27574</td>\n",
       "      <td>-0.28443</td>\n",
       "      <td>-0.313595</td>\n",
       "      <td>-0.18063</td>\n",
       "      <td>0.0</td>\n",
       "    </tr>\n",
       "    <tr>\n",
       "      <th>3</th>\n",
       "      <td>-0.191936</td>\n",
       "      <td>-0.179464</td>\n",
       "      <td>0.086192</td>\n",
       "      <td>-0.278788</td>\n",
       "      <td>-0.274843</td>\n",
       "      <td>-0.335849</td>\n",
       "      <td>-0.189479</td>\n",
       "      <td>-0.323533</td>\n",
       "      <td>-0.266833</td>\n",
       "      <td>-0.322154</td>\n",
       "      <td>-0.310086</td>\n",
       "      <td>-0.228002</td>\n",
       "      <td>-0.258438</td>\n",
       "      <td>-0.27574</td>\n",
       "      <td>-0.28443</td>\n",
       "      <td>3.188827</td>\n",
       "      <td>-0.18063</td>\n",
       "      <td>0.0</td>\n",
       "    </tr>\n",
       "    <tr>\n",
       "      <th>4</th>\n",
       "      <td>0.021113</td>\n",
       "      <td>1.715722</td>\n",
       "      <td>-0.550124</td>\n",
       "      <td>-0.278788</td>\n",
       "      <td>-0.274843</td>\n",
       "      <td>2.977526</td>\n",
       "      <td>-0.189479</td>\n",
       "      <td>-0.323533</td>\n",
       "      <td>-0.266833</td>\n",
       "      <td>-0.322154</td>\n",
       "      <td>-0.310086</td>\n",
       "      <td>-0.228002</td>\n",
       "      <td>-0.258438</td>\n",
       "      <td>-0.27574</td>\n",
       "      <td>-0.28443</td>\n",
       "      <td>-0.313595</td>\n",
       "      <td>-0.18063</td>\n",
       "      <td>NaN</td>\n",
       "    </tr>\n",
       "    <tr>\n",
       "      <th>...</th>\n",
       "      <td>...</td>\n",
       "      <td>...</td>\n",
       "      <td>...</td>\n",
       "      <td>...</td>\n",
       "      <td>...</td>\n",
       "      <td>...</td>\n",
       "      <td>...</td>\n",
       "      <td>...</td>\n",
       "      <td>...</td>\n",
       "      <td>...</td>\n",
       "      <td>...</td>\n",
       "      <td>...</td>\n",
       "      <td>...</td>\n",
       "      <td>...</td>\n",
       "      <td>...</td>\n",
       "      <td>...</td>\n",
       "      <td>...</td>\n",
       "      <td>...</td>\n",
       "    </tr>\n",
       "    <tr>\n",
       "      <th>407953</th>\n",
       "      <td>NaN</td>\n",
       "      <td>NaN</td>\n",
       "      <td>NaN</td>\n",
       "      <td>NaN</td>\n",
       "      <td>NaN</td>\n",
       "      <td>NaN</td>\n",
       "      <td>NaN</td>\n",
       "      <td>NaN</td>\n",
       "      <td>NaN</td>\n",
       "      <td>NaN</td>\n",
       "      <td>NaN</td>\n",
       "      <td>NaN</td>\n",
       "      <td>NaN</td>\n",
       "      <td>NaN</td>\n",
       "      <td>NaN</td>\n",
       "      <td>NaN</td>\n",
       "      <td>NaN</td>\n",
       "      <td>0.0</td>\n",
       "    </tr>\n",
       "    <tr>\n",
       "      <th>402911</th>\n",
       "      <td>NaN</td>\n",
       "      <td>NaN</td>\n",
       "      <td>NaN</td>\n",
       "      <td>NaN</td>\n",
       "      <td>NaN</td>\n",
       "      <td>NaN</td>\n",
       "      <td>NaN</td>\n",
       "      <td>NaN</td>\n",
       "      <td>NaN</td>\n",
       "      <td>NaN</td>\n",
       "      <td>NaN</td>\n",
       "      <td>NaN</td>\n",
       "      <td>NaN</td>\n",
       "      <td>NaN</td>\n",
       "      <td>NaN</td>\n",
       "      <td>NaN</td>\n",
       "      <td>NaN</td>\n",
       "      <td>0.0</td>\n",
       "    </tr>\n",
       "    <tr>\n",
       "      <th>506669</th>\n",
       "      <td>NaN</td>\n",
       "      <td>NaN</td>\n",
       "      <td>NaN</td>\n",
       "      <td>NaN</td>\n",
       "      <td>NaN</td>\n",
       "      <td>NaN</td>\n",
       "      <td>NaN</td>\n",
       "      <td>NaN</td>\n",
       "      <td>NaN</td>\n",
       "      <td>NaN</td>\n",
       "      <td>NaN</td>\n",
       "      <td>NaN</td>\n",
       "      <td>NaN</td>\n",
       "      <td>NaN</td>\n",
       "      <td>NaN</td>\n",
       "      <td>NaN</td>\n",
       "      <td>NaN</td>\n",
       "      <td>0.0</td>\n",
       "    </tr>\n",
       "    <tr>\n",
       "      <th>420283</th>\n",
       "      <td>NaN</td>\n",
       "      <td>NaN</td>\n",
       "      <td>NaN</td>\n",
       "      <td>NaN</td>\n",
       "      <td>NaN</td>\n",
       "      <td>NaN</td>\n",
       "      <td>NaN</td>\n",
       "      <td>NaN</td>\n",
       "      <td>NaN</td>\n",
       "      <td>NaN</td>\n",
       "      <td>NaN</td>\n",
       "      <td>NaN</td>\n",
       "      <td>NaN</td>\n",
       "      <td>NaN</td>\n",
       "      <td>NaN</td>\n",
       "      <td>NaN</td>\n",
       "      <td>NaN</td>\n",
       "      <td>0.0</td>\n",
       "    </tr>\n",
       "    <tr>\n",
       "      <th>414522</th>\n",
       "      <td>NaN</td>\n",
       "      <td>NaN</td>\n",
       "      <td>NaN</td>\n",
       "      <td>NaN</td>\n",
       "      <td>NaN</td>\n",
       "      <td>NaN</td>\n",
       "      <td>NaN</td>\n",
       "      <td>NaN</td>\n",
       "      <td>NaN</td>\n",
       "      <td>NaN</td>\n",
       "      <td>NaN</td>\n",
       "      <td>NaN</td>\n",
       "      <td>NaN</td>\n",
       "      <td>NaN</td>\n",
       "      <td>NaN</td>\n",
       "      <td>NaN</td>\n",
       "      <td>NaN</td>\n",
       "      <td>0.0</td>\n",
       "    </tr>\n",
       "  </tbody>\n",
       "</table>\n",
       "<p>505567 rows × 18 columns</p>\n",
       "</div>"
      ],
      "text/plain": [
       "             amt  city_pop  time_var  category_entertainment  \\\n",
       "0      -0.076519 -0.288456 -1.533520               -0.278788   \n",
       "1      -0.284161 -0.292677 -1.012898               -0.278788   \n",
       "2      -0.226122 -0.227774 -0.434430               -0.278788   \n",
       "3      -0.191936 -0.179464  0.086192               -0.278788   \n",
       "4       0.021113  1.715722 -0.550124               -0.278788   \n",
       "...          ...       ...       ...                     ...   \n",
       "407953       NaN       NaN       NaN                     NaN   \n",
       "402911       NaN       NaN       NaN                     NaN   \n",
       "506669       NaN       NaN       NaN                     NaN   \n",
       "420283       NaN       NaN       NaN                     NaN   \n",
       "414522       NaN       NaN       NaN                     NaN   \n",
       "\n",
       "        category_food_dining  category_gas_transport  category_grocery_net  \\\n",
       "0                  -0.274843               -0.335849             -0.189479   \n",
       "1                  -0.274843               -0.335849             -0.189479   \n",
       "2                  -0.274843               -0.335849             -0.189479   \n",
       "3                  -0.274843               -0.335849             -0.189479   \n",
       "4                  -0.274843                2.977526             -0.189479   \n",
       "...                      ...                     ...                   ...   \n",
       "407953                   NaN                     NaN                   NaN   \n",
       "402911                   NaN                     NaN                   NaN   \n",
       "506669                   NaN                     NaN                   NaN   \n",
       "420283                   NaN                     NaN                   NaN   \n",
       "414522                   NaN                     NaN                   NaN   \n",
       "\n",
       "        category_grocery_pos  category_health_fitness  category_home  \\\n",
       "0                  -0.323533                -0.266833      -0.322154   \n",
       "1                  -0.323533                -0.266833       3.104106   \n",
       "2                  -0.323533                 3.747663      -0.322154   \n",
       "3                  -0.323533                -0.266833      -0.322154   \n",
       "4                  -0.323533                -0.266833      -0.322154   \n",
       "...                      ...                      ...            ...   \n",
       "407953                   NaN                      NaN            NaN   \n",
       "402911                   NaN                      NaN            NaN   \n",
       "506669                   NaN                      NaN            NaN   \n",
       "420283                   NaN                      NaN            NaN   \n",
       "414522                   NaN                      NaN            NaN   \n",
       "\n",
       "        category_kids_pets  category_misc_net  category_misc_pos  \\\n",
       "0                -0.310086           4.385924          -0.258438   \n",
       "1                -0.310086          -0.228002          -0.258438   \n",
       "2                -0.310086          -0.228002          -0.258438   \n",
       "3                -0.310086          -0.228002          -0.258438   \n",
       "4                -0.310086          -0.228002          -0.258438   \n",
       "...                    ...                ...                ...   \n",
       "407953                 NaN                NaN                NaN   \n",
       "402911                 NaN                NaN                NaN   \n",
       "506669                 NaN                NaN                NaN   \n",
       "420283                 NaN                NaN                NaN   \n",
       "414522                 NaN                NaN                NaN   \n",
       "\n",
       "        category_personal_care  category_shopping_net  category_shopping_pos  \\\n",
       "0                     -0.27574               -0.28443              -0.313595   \n",
       "1                     -0.27574               -0.28443              -0.313595   \n",
       "2                     -0.27574               -0.28443              -0.313595   \n",
       "3                     -0.27574               -0.28443               3.188827   \n",
       "4                     -0.27574               -0.28443              -0.313595   \n",
       "...                        ...                    ...                    ...   \n",
       "407953                     NaN                    NaN                    NaN   \n",
       "402911                     NaN                    NaN                    NaN   \n",
       "506669                     NaN                    NaN                    NaN   \n",
       "420283                     NaN                    NaN                    NaN   \n",
       "414522                     NaN                    NaN                    NaN   \n",
       "\n",
       "        category_travel  is_fraud  \n",
       "0              -0.18063       0.0  \n",
       "1              -0.18063       0.0  \n",
       "2              -0.18063       0.0  \n",
       "3              -0.18063       0.0  \n",
       "4              -0.18063       NaN  \n",
       "...                 ...       ...  \n",
       "407953              NaN       0.0  \n",
       "402911              NaN       0.0  \n",
       "506669              NaN       0.0  \n",
       "420283              NaN       0.0  \n",
       "414522              NaN       0.0  \n",
       "\n",
       "[505567 rows x 18 columns]"
      ]
     },
     "execution_count": 49,
     "metadata": {},
     "output_type": "execute_result"
    }
   ],
   "source": [
    "raw_temp.columns = list(X.columns)+[\"is_fraud\"]\n",
    "raw_temp"
   ]
  },
  {
   "cell_type": "code",
   "execution_count": 50,
   "metadata": {
    "colab": {
     "base_uri": "https://localhost:8080/",
     "height": 465
    },
    "id": "vVaHpqf9wHj7",
    "outputId": "105a15c4-f26c-4210-f97c-4b4c3112344e"
   },
   "outputs": [
    {
     "data": {
      "image/png": "[encoded data removed]",
      "text/plain": [
       "<Figure size 640x480 with 1 Axes>"
      ]
     },
     "metadata": {},
     "output_type": "display_data"
    }
   ],
   "source": [
    "#plt.scatter(raw_temp[raw_temp[\"is_fraud\"] == 0][\"amt\"], raw_temp[raw_temp[\"is_fraud\"] == 0][\"city_pop\"])\n",
    "\n",
    "plt.scatter(raw_temp[raw_temp[\"is_fraud\"] == 1][\"amt\"], raw_temp[raw_temp[\"is_fraud\"] == 1][\"city_pop\"])\n",
    "plt.legend([\"Fraud\", \"Not Fraud\"])\n",
    "plt.xlabel(\"Amount\")\n",
    "plt.ylabel(\"Population\")\n",
    "\n",
    "plt.show()"
   ]
  },
  {
   "cell_type": "code",
   "execution_count": 74,
   "metadata": {
    "id": "YphNDj12aFhP"
   },
   "outputs": [],
   "source": [
    "raw_temp = pd.concat([pd.DataFrame(raw_temp, columns = X.columns), pd.DataFrame(smote_y, columns = [\"is_fraud\"])], ignore_index= False,axis = 1) "
   ]
  },
  {
   "cell_type": "code",
   "execution_count": 75,
   "metadata": {},
   "outputs": [],
   "source": [
    "raw_temp.columns = list(X.columns) + [\"is_fraud\"]"
   ]
  },
  {
   "cell_type": "code",
   "execution_count": 76,
   "metadata": {
    "colab": {
     "base_uri": "https://localhost:8080/",
     "height": 520
    },
    "id": "G-MUv66T-RZE",
    "outputId": "a845731d-5a52-4480-d5eb-8dd58de8c3ca"
   },
   "outputs": [
    {
     "name": "stderr",
     "output_type": "stream",
     "text": [
      "/Users/echoxyliu/anaconda3/lib/python3.11/site-packages/IPython/core/pylabtools.py:152: UserWarning: Creating legend with loc=\"best\" can be slow with large amounts of data.\n",
      "  fig.canvas.print_figure(bytes_io, **kw)\n"
     ]
    },
    {
     "data": {
      "image/png": "[encoded data removed]",
      "text/plain": [
       "<Figure size 640x480 with 1 Axes>"
      ]
     },
     "metadata": {},
     "output_type": "display_data"
    }
   ],
   "source": [
    "#plt.scatter(raw_temp[raw_temp[\"is_fraud\"] == 0][\"amt\"], raw_temp[raw_temp[\"is_fraud\"] == 0][\"city_pop\"])\n",
    "\n",
    "plt.scatter(raw_temp[raw_temp[\"is_fraud\"] == 1][\"amt\"], raw_temp[raw_temp[\"is_fraud\"] == 1][\"city_pop\"])\n",
    "plt.legend([ \"Not Fraud\", \"Fraud\"])\n",
    "plt.xlabel(\"Amount\")\n",
    "plt.ylabel(\"Population\")\n",
    "\n",
    "plt.show()"
   ]
  },
  {
   "cell_type": "markdown",
   "metadata": {
    "id": "wjt1pnzgZcuO"
   },
   "source": [
    "# 7.) We want to compare oversampling, Undersampling and SMOTE across our 3 models (Logistic Regression, Logistic Regression Lasso and Decision Trees).\n",
    "\n",
    "# Make a dataframe that has a dual index and 9 Rows.\n",
    "# Calculate: Sensitivity, Specificity, Precision, Recall and F1 score. for out of sample data.\n",
    "# Notice any patterns across perfomance for this model. Does one totally out perform the others IE. over/under/smote or does a model perform better DT, Lasso, LR?\n",
    "# Choose what you think is the best model and why. test on Holdout"
   ]
  },
  {
   "cell_type": "code",
   "execution_count": 83,
   "metadata": {
    "id": "0tIC3Nd1bx-N"
   },
   "outputs": [],
   "source": [
    "from sklearn.tree import DecisionTreeClassifier\n",
    "from sklearn.metrics import confusion_matrix, precision_score, recall_score, f1_score\n",
    "import pandas as pd"
   ]
  },
  {
   "cell_type": "code",
   "execution_count": 84,
   "metadata": {},
   "outputs": [],
   "source": [
    "resampling_methods = {\n",
    "    \"over\": RandomOverSampler(),\n",
    "    \"under\": RandomUnderSampler(),\n",
    "    \"smote\": SMOTE()\n",
    "}\n",
    "\n",
    "model_configs = {\n",
    "    \"LOG\": LogisticRegression(),\n",
    "    \"LASSO\": LogisticRegression(penalty = 'l1', solver = 'liblinear', C = .5),\n",
    "    \"DecisionTree\": DecisionTreeClassifier()\n",
    "}"
   ]
  },
  {
   "cell_type": "code",
   "execution_count": 91,
   "metadata": {},
   "outputs": [],
   "source": [
    "def calc_perf_metrics(y_true,y_pred):\n",
    "    tn, fp, fn, tp = confusion_matrix(y_true,y_pred).ravel()\n",
    "    sensitivity = tp/(tp+fn)\n",
    "    specificity = tn/(tn+fp)\n",
    "    precision = tp/(tp+fp)\n",
    "    recall = tp/(tp+fn)\n",
    "    F1_score = 2*precision*recall/(precision+recall)\n",
    "    \n",
    "    print(f\"sensitivity: {sensitivity}, specificity: {specificity}, precision: {precision}, recall:{recall},F1_score:{F1_score}\")"
   ]
  },
  {
   "cell_type": "code",
   "execution_count": 92,
   "metadata": {},
   "outputs": [
    {
     "name": "stdout",
     "output_type": "stream",
     "text": [
      "over_LOG : 0.9073154346313491\n",
      "sensitivity: 0.759375, specificity: 0.9078855463763578, precision: 0.03079067410035479, recall:0.759375,F1_score:0.05918168533852899\n",
      "\n",
      "\n",
      "\n",
      "over_LASSO : 0.9073874133256556\n",
      "sensitivity: 0.759375, specificity: 0.9079578024518895, precision: 0.030814100938371797, recall:0.759375,F1_score:0.059224957348281745\n",
      "\n",
      "\n",
      "\n",
      "over_DecisionTree : 0.9966769836128506\n",
      "sensitivity: 0.55, specificity: 0.9983983236590477, precision: 0.56957928802589, recall:0.55,F1_score:0.5596184419713831\n",
      "\n",
      "\n",
      "\n",
      "under_LOG : 0.8749010292953285\n",
      "sensitivity: 0.765625, specificity: 0.8753221416700787, precision: 0.023117569352708058, recall:0.765625,F1_score:0.044880014654698666\n",
      "\n",
      "\n",
      "\n",
      "under_LASSO : 0.8776962019242305\n",
      "sensitivity: 0.765625, specificity: 0.8781280859365591, precision: 0.02363724071394115, recall:0.765625,F1_score:0.045858680393074405\n",
      "\n",
      "\n",
      "\n",
      "under_DecisionTree : 0.9425010196981694\n",
      "sensitivity: 0.965625, specificity: 0.9424119078012476, precision: 0.06069534472598703, recall:0.965625,F1_score:0.11421179079652559\n",
      "\n",
      "\n",
      "\n",
      "smote_LOG : 0.903896446651791\n",
      "sensitivity: 0.759375, specificity: 0.9044533827886028, precision: 0.0297175003057356, recall:0.759375,F1_score:0.05719665764387431\n",
      "\n",
      "\n",
      "\n",
      "smote_LASSO : 0.9039564288970465\n",
      "sensitivity: 0.759375, specificity: 0.9045135961848793, precision: 0.02973568281938326, recall:0.759375,F1_score:0.05723033443240697\n",
      "\n",
      "\n",
      "\n",
      "smote_DecisionTree : 0.9923582619544615\n",
      "sensitivity: 0.740625, specificity: 0.9933283556925745, precision: 0.2996207332490518, recall:0.740625,F1_score:0.4266426642664266\n",
      "\n",
      "\n",
      "\n"
     ]
    }
   ],
   "source": [
    "trained_models = {}\n",
    "\n",
    "for resample_key,resampler in resampling_methods.items():\n",
    "    resample_X, resample_y = resampler.fit_resample(X_train, y_train)\n",
    "    \n",
    "    for model_name, model in model_configs.items():\n",
    "        combined_key = f\"{resample_key}_{model_name}\"\n",
    "        trained_models[combined_key] = model.fit(resample_X, resample_y)\n",
    "        \n",
    "        print(f\"{combined_key} : {trained_models[combined_key].score(X_test, y_test)}\") \n",
    "        y_pred = trained_models[combined_key].predict(X_test)\n",
    "        y_true = y_test\n",
    "        calc_perf_metrics(y_true, y_pred)\n",
    "        print(\"\\n\\n\")"
   ]
  },
  {
   "cell_type": "markdown",
   "metadata": {},
   "source": [
    "I choose F1 score as the main decision criteria, since F1 score is more powerful in dealing with imbalanced data. The higher the F1 score, the better the model is. Comparing among models, Decision Tree models perform better. Comparing over/under/smote models, over model performs better. To sum up, I think the Over Decision Tree model is the best."
   ]
  }
 ],
 "metadata": {
  "colab": {
   "provenance": []
  },
  "kernelspec": {
   "display_name": "Python 3 (ipykernel)",
   "language": "python",
   "name": "python3"
  },
  "language_info": {
   "codemirror_mode": {
    "name": "ipython",
    "version": 3
   },
   "file_extension": ".py",
   "mimetype": "text/x-python",
   "name": "python",
   "nbconvert_exporter": "python",
   "pygments_lexer": "ipython3",
   "version": "3.11.4"
  },
  "toc": {
   "base_numbering": 1,
   "nav_menu": {},
   "number_sections": true,
   "sideBar": true,
   "skip_h1_title": false,
   "title_cell": "Table of Contents",
   "title_sidebar": "Contents",
   "toc_cell": false,
   "toc_position": {},
   "toc_section_display": true,
   "toc_window_display": false
  }
 },
 "nbformat": 4,
 "nbformat_minor": 1
}
